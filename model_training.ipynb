{
  "nbformat": 4,
  "nbformat_minor": 0,
  "metadata": {
    "colab": {
      "provenance": []
    },
    "kernelspec": {
      "name": "python3",
      "display_name": "Python 3"
    },
    "language_info": {
      "name": "python"
    }
  },
  "cells": [
    {
      "cell_type": "code",
      "execution_count": null,
      "metadata": {
        "colab": {
          "base_uri": "https://localhost:8080/"
        },
        "id": "GqLWwVYKds9H",
        "outputId": "7e979b83-3972-4334-91b4-e5d6d1ad1721"
      },
      "outputs": [
        {
          "output_type": "stream",
          "name": "stdout",
          "text": [
            "Mounted at /content/drive\n"
          ]
        }
      ],
      "source": [
        "from google.colab import drive\n",
        "\n",
        "drive.mount(\"/content/drive\")\n"
      ]
    },
    {
      "cell_type": "markdown",
      "source": [
        "To run this notebook, first download the `train.csv` file from [here](https://www.kaggle.com/datasets/clkmuhammed/creditscoreclassification?select=train.csv). Then upload these files to your own Google Drive. After performing these steps, the below code creates a train-dev-test split in a reproducible manner."
      ],
      "metadata": {
        "id": "PRI7e-sVdtrQ"
      }
    },
    {
      "cell_type": "code",
      "source": [
        "import pandas as pd\n",
        "import matplotlib.pyplot as plt\n",
        "\n",
        "df = pd.read_csv('/content/drive/My Drive/train.csv')\n",
        "plt.rcParams['figure.figsize'] = [10, 5]\n",
        "plt.hist(df['Credit_Score'], bins=3)\n",
        "plt.show()\n",
        "plt.rcParams['figure.figsize'] = [10, 5]\n",
        "plt.title('Age Histogram')\n",
        "plt.hist(df['Age'], bins=15)\n",
        "plt.show()\n",
        "plt.rcParams['figure.figsize'] = [10, 5]\n",
        "plt.title('Annual Income Histogram')\n",
        "plt.hist(df['Annual_Income'], bins=15)\n",
        "plt.show()\n",
        "\n",
        "train = df.sample(frac=0.7,random_state=0)\n",
        "dev_test = df.drop(train.index)\n",
        "dev = dev_test.sample(frac=1/3,random_state=0)\n",
        "test = dev_test.drop(dev.index)"
      ],
      "metadata": {
        "id": "T3fqLKC3gu-T",
        "colab": {
          "base_uri": "https://localhost:8080/",
          "height": 958
        },
        "outputId": "14d453bb-8802-4248-fbe4-07e7ba04823c"
      },
      "execution_count": null,
      "outputs": [
        {
          "output_type": "display_data",
          "data": {
            "text/plain": [
              "<Figure size 720x360 with 1 Axes>"
            ],
            "image/png": "[encoded data removed]"
          },
          "metadata": {
            "needs_background": "light"
          }
        },
        {
          "output_type": "display_data",
          "data": {
            "text/plain": [
              "<Figure size 720x360 with 1 Axes>"
            ],
            "image/png": "[encoded data removed]"
          },
          "metadata": {
            "needs_background": "light"
          }
        },
        {
          "output_type": "display_data",
          "data": {
            "text/plain": [
              "<Figure size 720x360 with 1 Axes>"
            ],
            "image/png": "[encoded data removed]"
          },
          "metadata": {
            "needs_background": "light"
          }
        }
      ]
    },
    {
      "cell_type": "code",
      "source": [
        "import numpy as np\n",
        "from sklearn.preprocessing import MinMaxScaler\n",
        "\n",
        "def getx(data):\n",
        "  num_feats = ['Age', 'Annual_Income', 'Monthly_Inhand_Salary', 'Num_Bank_Accounts',\n",
        "               'Num_Credit_Card', 'Interest_Rate', 'Num_of_Loan', 'Delay_from_due_date',\n",
        "               'Num_of_Delayed_Payment', 'Changed_Credit_Limit', 'Num_Credit_Inquiries',\n",
        "               'Outstanding_Debt', 'Credit_Utilization_Ratio', 'Credit_History_Age',\n",
        "               'Total_EMI_per_month', 'Amount_invested_monthly', 'Monthly_Balance']\n",
        "  cat_feats = ['Occupation', 'Credit_Mix', 'Payment_of_Min_Amount', 'Payment_Behaviour']\n",
        "  num_X = np.stack((np.array(data[f]) for f in num_feats), 1)\n",
        "  cat_X = []\n",
        "  for f in cat_feats:\n",
        "    term_to_idx = {term:i for i, term in enumerate(set(data[f]))}\n",
        "    x = np.zeros((len(data), len(term_to_idx)))\n",
        "    for i, term in enumerate(data[f]):\n",
        "      x[i][term_to_idx[term]] = 1\n",
        "    cat_X.append(x)\n",
        "  return np.concatenate([num_X] + cat_X, 1)\n",
        "\n",
        "def gety(data):\n",
        "  score_dict = {'Poor':0, 'Standard':1, 'Good':2}\n",
        "  Y = []\n",
        "  for score in data['Credit_Score']:\n",
        "    Y.append(score_dict[score])\n",
        "  return np.array(Y)\n",
        "\n",
        "scaler = MinMaxScaler()\n",
        "\n",
        "train_X = getx(train)\n",
        "dev_X = getx(dev)\n",
        "test_X = getx(test)\n",
        "\n",
        "scaler = MinMaxScaler().fit(train_X)\n",
        "train_X = scaler.transform(train_X)\n",
        "dev_X = scaler.transform(dev_X)\n",
        "test_X = scaler.transform(test_X)\n",
        "\n",
        "train_Y = gety(train)\n",
        "dev_Y = gety(dev)\n",
        "test_Y = gety(test)"
      ],
      "metadata": {
        "id": "KMvLNdgM479Q",
        "colab": {
          "base_uri": "https://localhost:8080/"
        },
        "outputId": "6171a6bb-215b-4577-9ae3-fdf60c3724f3"
      },
      "execution_count": null,
      "outputs": [
        {
          "output_type": "stream",
          "name": "stderr",
          "text": [
            "/usr/local/lib/python3.7/dist-packages/IPython/core/interactiveshell.py:3326: FutureWarning: arrays to stack must be passed as a \"sequence\" type such as list or tuple. Support for non-sequence iterables such as generators is deprecated as of NumPy 1.16 and will raise an error in the future.\n",
            "  exec(code_obj, self.user_global_ns, self.user_ns)\n"
          ]
        }
      ]
    },
    {
      "cell_type": "code",
      "source": [
        "from sklearn.metrics import accuracy_score, classification_report, confusion_matrix, f1_score\n",
        "def evaluate(name, train_pred, train_gt, pred, gt):\n",
        "  print(name)\n",
        "  print('Train Accuracy:', accuracy_score(train_gt, train_pred))\n",
        "  print('Test Accuracy:', accuracy_score(gt, pred))\n",
        "  print('Test F1:', f1_score(gt, pred, average='macro'))\n",
        "  print('Classification Report:\\n', classification_report(gt, pred))\n",
        "  print('Confusion Matrix:\\n', confusion_matrix(gt, pred))\n",
        "  print()"
      ],
      "metadata": {
        "id": "Sv9acyoEFuMh"
      },
      "execution_count": null,
      "outputs": []
    },
    {
      "cell_type": "code",
      "source": [
        "from sklearn.ensemble import RandomForestClassifier\n",
        "\n",
        "rf = RandomForestClassifier(n_estimators=100, max_depth=30, random_state=0).fit(train_X, train_Y)"
      ],
      "metadata": {
        "id": "B4iii71qDzYv"
      },
      "execution_count": null,
      "outputs": []
    },
    {
      "cell_type": "code",
      "source": [
        "from xgboost import XGBClassifier\n",
        "\n",
        "xgb = XGBClassifier(n_estimators=100, learning_rate=0.1,\n",
        "                                 max_depth=30, random_state=0).fit(train_X, train_Y)"
      ],
      "metadata": {
        "id": "OgdXO0uiGAWf"
      },
      "execution_count": null,
      "outputs": []
    },
    {
      "cell_type": "code",
      "source": [
        "from sklearn.linear_model import LogisticRegression\n",
        "\n",
        "log = LogisticRegression(max_iter=1000, random_state=0).fit(train_X, train_Y)"
      ],
      "metadata": {
        "id": "Liy8ZfULWvl4"
      },
      "execution_count": null,
      "outputs": []
    },
    {
      "cell_type": "code",
      "source": [
        "from sklearn.svm import SVC\n",
        "\n",
        "svm = SVC(C=10, kernel='rbf').fit(train_X, train_Y)"
      ],
      "metadata": {
        "id": "oz8BOASXZgB7"
      },
      "execution_count": null,
      "outputs": []
    },
    {
      "cell_type": "code",
      "source": [
        "from sklearn.neural_network import MLPClassifier\n",
        "\n",
        "mlp = MLPClassifier(hidden_layer_sizes=(100,100), activation=\"relu\", solver=\"adam\", max_iter=1000).fit(train_X, train_Y)"
      ],
      "metadata": {
        "id": "ntxwt-lrX8r5"
      },
      "execution_count": null,
      "outputs": []
    },
    {
      "cell_type": "code",
      "source": [
        "models = [('Random Forest', rf), ('XGBoost', xgb), ('Logistic Regression', log), ('SVM', svm), ('MLP', mlp)]\n",
        "\n",
        "for name, model in models:\n",
        "  evaluate(name, model.predict(train_X), train_Y, model.predict(test_X), test_Y)"
      ],
      "metadata": {
        "colab": {
          "base_uri": "https://localhost:8080/"
        },
        "id": "iMJYZqUmFduj",
        "outputId": "9f6f2e3e-ec25-45e3-a2ac-7d86982bde72"
      },
      "execution_count": null,
      "outputs": [
        {
          "output_type": "stream",
          "name": "stdout",
          "text": [
            "Random Forest\n",
            "Train Accuracy: 0.9991714285714286\n",
            "Test Accuracy: 0.6373\n",
            "Test F1: 0.6597060899881365\n",
            "Classification Report:\n",
            "               precision    recall  f1-score   support\n",
            "\n",
            "           0       0.49      0.91      0.64      5830\n",
            "           1       0.82      0.45      0.58     10611\n",
            "           2       0.77      0.74      0.75      3559\n",
            "\n",
            "    accuracy                           0.64     20000\n",
            "   macro avg       0.69      0.70      0.66     20000\n",
            "weighted avg       0.72      0.64      0.63     20000\n",
            "\n",
            "Confusion Matrix:\n",
            " [[5297  453   80]\n",
            " [5079 4801  731]\n",
            " [ 338  573 2648]]\n",
            "\n",
            "XGBoost\n",
            "Train Accuracy: 1.0\n",
            "Test Accuracy: 0.537\n",
            "Test F1: 0.5703320384798806\n",
            "Classification Report:\n",
            "               precision    recall  f1-score   support\n",
            "\n",
            "           0       0.42      0.91      0.57      5830\n",
            "           1       0.73      0.27      0.39     10611\n",
            "           2       0.77      0.73      0.75      3559\n",
            "\n",
            "    accuracy                           0.54     20000\n",
            "   macro avg       0.64      0.64      0.57     20000\n",
            "weighted avg       0.65      0.54      0.51     20000\n",
            "\n",
            "Confusion Matrix:\n",
            " [[5323  457   50]\n",
            " [7058 2834  719]\n",
            " [ 407  569 2583]]\n",
            "\n",
            "Logistic Regression\n",
            "Train Accuracy: 0.6630285714285714\n",
            "Test Accuracy: 0.6554\n",
            "Test F1: 0.6364723043502809\n",
            "Classification Report:\n",
            "               precision    recall  f1-score   support\n",
            "\n",
            "           0       0.64      0.56      0.60      5830\n",
            "           1       0.71      0.70      0.70     10611\n",
            "           2       0.56      0.68      0.61      3559\n",
            "\n",
            "    accuracy                           0.66     20000\n",
            "   macro avg       0.63      0.65      0.64     20000\n",
            "weighted avg       0.66      0.66      0.66     20000\n",
            "\n",
            "Confusion Matrix:\n",
            " [[3268 2052  510]\n",
            " [1764 7430 1417]\n",
            " [ 106 1043 2410]]\n",
            "\n",
            "SVM\n",
            "Train Accuracy: 0.7585285714285714\n",
            "Test Accuracy: 0.4069\n",
            "Test F1: 0.4185427622305906\n",
            "Classification Report:\n",
            "               precision    recall  f1-score   support\n",
            "\n",
            "           0       0.35      0.83      0.49      5830\n",
            "           1       0.45      0.09      0.15     10611\n",
            "           2       0.58      0.65      0.61      3559\n",
            "\n",
            "    accuracy                           0.41     20000\n",
            "   macro avg       0.46      0.52      0.42     20000\n",
            "weighted avg       0.45      0.41      0.33     20000\n",
            "\n",
            "Confusion Matrix:\n",
            " [[4862  559  409]\n",
            " [8349  967 1295]\n",
            " [ 644  606 2309]]\n",
            "\n",
            "MLP\n",
            "Train Accuracy: 0.8670857142857142\n",
            "Test Accuracy: 0.476\n",
            "Test F1: 0.49245005578437445\n",
            "Classification Report:\n",
            "               precision    recall  f1-score   support\n",
            "\n",
            "           0       0.38      0.70      0.49      5830\n",
            "           1       0.58      0.34      0.43     10611\n",
            "           2       0.60      0.52      0.56      3559\n",
            "\n",
            "    accuracy                           0.48     20000\n",
            "   macro avg       0.52      0.52      0.49     20000\n",
            "weighted avg       0.52      0.48      0.47     20000\n",
            "\n",
            "Confusion Matrix:\n",
            " [[4070 1512  248]\n",
            " [6035 3609  967]\n",
            " [ 582 1136 1841]]\n",
            "\n"
          ]
        }
      ]
    }
  ]
}